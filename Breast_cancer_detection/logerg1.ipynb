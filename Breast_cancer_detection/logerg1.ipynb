{
 "cells": [
  {
   "cell_type": "code",
   "execution_count": 1,
   "metadata": {},
   "outputs": [],
   "source": [
    "import numpy as np"
   ]
  },
  {
   "cell_type": "code",
   "execution_count": 2,
   "metadata": {},
   "outputs": [],
   "source": [
    "X = np.array([\n",
    "    [1, 1.0, 2.0],\n",
    "    [1, 2.0, 3.0],\n",
    "    [1, 3.0, 3.0],\n",
    "    [1, 4.0, 2.0],\n",
    "    [1, 5.0, 1.0],\n",
    "    [1, 6.0, 2.0],\n",
    "    [1, 7.0, 4.0],\n",
    "    [1, 8.0, 5.0]\n",
    "])\n",
    "y = np.array([0, 0, 0, 0, 1, 1, 1, 1])"
   ]
  },
  {
   "cell_type": "code",
   "execution_count": 3,
   "metadata": {},
   "outputs": [],
   "source": [
    "#standardizing the data\n",
    "def standardize(X):\n",
    "    means = np.mean(X[:, 1:], axis=0)\n",
    "    stds = np.std(X[:, 1:], axis=0, ddof=0)\n",
    "    X_standardized = X.copy()\n",
    "    X_standardized[:, 1:] = (X[:, 1:] - means) / stds\n",
    "    return X_standardized, means, stds\n",
    "\n",
    "X_standardized, means, stds = standardize(X)\n"
   ]
  },
  {
   "cell_type": "code",
   "execution_count": 9,
   "metadata": {},
   "outputs": [
    {
     "name": "stdout",
     "output_type": "stream",
     "text": [
      "Accuracy: 1.00\n",
      "Precision: 1.00\n",
      "Recall: 1.00\n"
     ]
    }
   ],
   "source": [
    "def sigmoid(z):\n",
    "    return 1 / (1 + np.exp(-z))\n",
    "\n",
    "def gradient_descent(X, y, theta, learning_rate, iterations):\n",
    "    m = len(y)\n",
    "    for _ in range(iterations):\n",
    "        h = sigmoid(X.dot(theta))\n",
    "        gradient = (1 / m) * X.T.dot(h - y)\n",
    "        theta -= learning_rate * gradient\n",
    "    return theta\n",
    "\n",
    "# Initialize theta\n",
    "theta = np.zeros(X_standardized.shape[1])\n",
    "\n",
    "# Train the model\n",
    "learning_rate = 0.01\n",
    "iterations = 1000\n",
    "theta = gradient_descent(X_standardized, y, theta, learning_rate, iterations)\n",
    "\n",
    "# Predict\n",
    "def predict(X, theta, threshold=0.5):\n",
    "    probabilities = sigmoid(X.dot(theta))\n",
    "    return (probabilities >= threshold).astype(int)\n",
    "\n",
    "y_pred = predict(X_standardized, theta)\n",
    "\n",
    "# Manual calculation of accuracy, precision, and recall\n",
    "def calculate_metrics(y_true, y_pred):\n",
    "    TP = np.sum((y_true == 1) & (y_pred == 1))\n",
    "    TN = np.sum((y_true == 0) & (y_pred == 0))\n",
    "    FP = np.sum((y_true == 0) & (y_pred == 1))\n",
    "    FN = np.sum((y_true == 1) & (y_pred == 0))\n",
    "    \n",
    "    accuracy = (TP + TN) / (TP + TN + FP + FN)\n",
    "    precision = TP / (TP + FP) if (TP + FP) != 0 else 0\n",
    "    recall = TP / (TP + FN) if (TP + FN) != 0 else 0\n",
    "    \n",
    "    return accuracy, precision, recall\n",
    "\n",
    "accuracy, precision, recall = calculate_metrics(y, y_pred)\n",
    "\n",
    "print(f\"Accuracy: {accuracy:.2f}\")\n",
    "print(f\"Precision: {precision:.2f}\")\n",
    "print(f\"Recall: {recall:.2f}\")"
   ]
  }
 ],
 "metadata": {
  "kernelspec": {
   "display_name": "base",
   "language": "python",
   "name": "python3"
  },
  "language_info": {
   "codemirror_mode": {
    "name": "ipython",
    "version": 3
   },
   "file_extension": ".py",
   "mimetype": "text/x-python",
   "name": "python",
   "nbconvert_exporter": "python",
   "pygments_lexer": "ipython3",
   "version": "3.12.4"
  }
 },
 "nbformat": 4,
 "nbformat_minor": 2
}
